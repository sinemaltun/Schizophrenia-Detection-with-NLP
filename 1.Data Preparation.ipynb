{
 "cells": [
  {
   "cell_type": "code",
   "execution_count": 1,
   "id": "6277f088",
   "metadata": {},
   "outputs": [],
   "source": [
    "import os\n",
    "import pandas as pd\n",
    "import numpy as np\n",
    "\n",
    "data_path = 'Data Objects/'"
   ]
  },
  {
   "cell_type": "markdown",
   "id": "1b2ced47",
   "metadata": {},
   "source": [
    "# 1. DATA PREPARATION"
   ]
  },
  {
   "cell_type": "markdown",
   "id": "f57ffc58",
   "metadata": {},
   "source": [
    "## 1.1 COMBINING DATA"
   ]
  },
  {
   "cell_type": "code",
   "execution_count": 2,
   "id": "4d877c54",
   "metadata": {},
   "outputs": [],
   "source": [
    "metadata = pd.read_excel(os.path.join(data_path, 'Metadata.xlsx'))\n",
    "metadata = metadata.iloc[:31]"
   ]
  },
  {
   "cell_type": "code",
   "execution_count": 3,
   "id": "10fa20bf",
   "metadata": {},
   "outputs": [
    {
     "data": {
      "text/plain": [
       "array(['<21AN11>', '<26AN12>', '<03EB14>', '<10EB14>', '<10EB15>',\n",
       "       '<03AR15>', '<26AR16>', '<21AP15>', '<22AP15>', '<12AY15>',\n",
       "       '<21UN11>', '<18UG09>', '<18UG10>', '<18UG11>', '<18UG14>',\n",
       "       '<18UG15>', '<23CT18>', '<23CT19>', '<26CT11>', '<11AR18>',\n",
       "       '<16UN13>', '<16UN16>', '<23EB14>', '<02AR17>', '<09AR14>',\n",
       "       '<16OV11>', '<17AR13>', '<19OV10>', '<23OV14>', '<28CT11>',\n",
       "       '<30CT09>'], dtype=object)"
      ]
     },
     "execution_count": 3,
     "metadata": {},
     "output_type": "execute_result"
    }
   ],
   "source": [
    "participants = np.array(metadata['Participant ID'])\n",
    "participants"
   ]
  },
  {
   "cell_type": "code",
   "execution_count": 4,
   "id": "d867c203",
   "metadata": {},
   "outputs": [
    {
     "name": "stdout",
     "output_type": "stream",
     "text": [
      "Number of participants with a history of Schizophrenia  16\n",
      "Number of participants with no history of Schizophrenia  15\n"
     ]
    }
   ],
   "source": [
    "participants = [participant.strip('<>').replace('>', '').replace('<', '') for participant in participants]\n",
    "prts_cl,prts_co = participants[:16],participants[16:]\n",
    "print(\"Number of participants with a history of Schizophrenia \",len(prts_cl))\n",
    "print(\"Number of participants with no history of Schizophrenia \",len(prts_co))"
   ]
  },
  {
   "cell_type": "code",
   "execution_count": 5,
   "id": "2d4cb581",
   "metadata": {},
   "outputs": [],
   "source": [
    "not_available = []\n",
    "def importTxt(file_name_list, directory):\n",
    "    text_data = []\n",
    "    for participant_id in file_name_list:\n",
    "        filename = f\"{participant_id}_Raw.txt\"\n",
    "        file_path = os.path.join(directory, filename)\n",
    "        if os.path.exists(file_path):\n",
    "            with open(file_path, 'r') as file:\n",
    "                text = file.read()\n",
    "                text_data.append(text)\n",
    "        else:\n",
    "            print(f\"File {filename} not found for participant {participant_id}\")\n",
    "            not_available.append(participant_id)\n",
    "            \n",
    "    return text_data"
   ]
  },
  {
   "cell_type": "code",
   "execution_count": 6,
   "id": "b72331a3",
   "metadata": {},
   "outputs": [
    {
     "name": "stdout",
     "output_type": "stream",
     "text": [
      "File 26AN12_Raw.txt not found for participant 26AN12\n",
      "File 16UN16_Raw.txt not found for participant 16UN16\n",
      "File 30CT09_Raw.txt not found for participant 30CT09\n",
      "\n",
      "Number of participants with a history of Schizophrenia  15\n",
      "Number of participants with no history of Schizophrenia  13\n"
     ]
    }
   ],
   "source": [
    "directory_cl = 'C:/Users/sinem/Desktop/Bitirme/Data/Discussing Abstract Ideas in Schizophrenia Corpus/DAI-C-CL (Schizophrenia)/Speaker Only_Raw'\n",
    "df_cl = importTxt(prts_cl,directory_cl)\n",
    "df = pd.DataFrame({'Text': df_cl, 'Condition':'clinical'})\n",
    "\n",
    "directory_co = 'C:/Users/sinem/Desktop/Bitirme/Data/Discussing Abstract Ideas in Schizophrenia Corpus/DAI-C-CO (Healthy)/Speaker Only_Raw'\n",
    "df_co = importTxt(prts_co,directory_co)\n",
    "df = df._append(pd.DataFrame({'Text': df_co, 'Condition':'comparison'}), ignore_index=True)\n",
    "\n",
    "print(\"\\nNumber of participants with a history of Schizophrenia \",len(df_cl))\n",
    "print(\"Number of participants with no history of Schizophrenia \",len(df_co))"
   ]
  },
  {
   "cell_type": "code",
   "execution_count": 7,
   "id": "86dbdf0f",
   "metadata": {},
   "outputs": [],
   "source": [
    "new_metadata = metadata[~metadata['Participant ID'].isin(not_available)]"
   ]
  },
  {
   "cell_type": "code",
   "execution_count": 8,
   "id": "d3dd9d4c",
   "metadata": {},
   "outputs": [],
   "source": [
    "df['Question'] = metadata['interview question']"
   ]
  },
  {
   "cell_type": "code",
   "execution_count": 9,
   "id": "69828134",
   "metadata": {},
   "outputs": [],
   "source": [
    "df = df[['Question', 'Text', 'Condition']]"
   ]
  },
  {
   "cell_type": "code",
   "execution_count": 10,
   "id": "4d282ca7",
   "metadata": {},
   "outputs": [
    {
     "data": {
      "text/html": [
       "<div>\n",
       "<style scoped>\n",
       "    .dataframe tbody tr th:only-of-type {\n",
       "        vertical-align: middle;\n",
       "    }\n",
       "\n",
       "    .dataframe tbody tr th {\n",
       "        vertical-align: top;\n",
       "    }\n",
       "\n",
       "    .dataframe thead th {\n",
       "        text-align: right;\n",
       "    }\n",
       "</style>\n",
       "<table border=\"1\" class=\"dataframe\">\n",
       "  <thead>\n",
       "    <tr style=\"text-align: right;\">\n",
       "      <th></th>\n",
       "      <th>Question</th>\n",
       "      <th>Text</th>\n",
       "      <th>Condition</th>\n",
       "    </tr>\n",
       "  </thead>\n",
       "  <tbody>\n",
       "    <tr>\n",
       "      <th>0</th>\n",
       "      <td>do you feel like you do creative things with l...</td>\n",
       "      <td>how do you mean language \\n well the only pro...</td>\n",
       "      <td>clinical</td>\n",
       "    </tr>\n",
       "    <tr>\n",
       "      <th>1</th>\n",
       "      <td>do you feel like you use language creatively?</td>\n",
       "      <td>I do erm   I I write song lyrics erm   poetry...</td>\n",
       "      <td>clinical</td>\n",
       "    </tr>\n",
       "    <tr>\n",
       "      <th>2</th>\n",
       "      <td>do you feel like you use language creatively?</td>\n",
       "      <td>can you repeat that \\n yes I do to some exten...</td>\n",
       "      <td>clinical</td>\n",
       "    </tr>\n",
       "    <tr>\n",
       "      <th>3</th>\n",
       "      <td>do you feel like  you do creative things with ...</td>\n",
       "      <td>right erm er I'm er do I   do creative things...</td>\n",
       "      <td>clinical</td>\n",
       "    </tr>\n",
       "    <tr>\n",
       "      <th>4</th>\n",
       "      <td>do you feel like you do creative things with l...</td>\n",
       "      <td>OK \\n yeah \\n erm I suppose   it depends what...</td>\n",
       "      <td>clinical</td>\n",
       "    </tr>\n",
       "    <tr>\n",
       "      <th>5</th>\n",
       "      <td>do you feel like you use language creatively?</td>\n",
       "      <td>OK OK \\n you know I  when I came to England a...</td>\n",
       "      <td>clinical</td>\n",
       "    </tr>\n",
       "    <tr>\n",
       "      <th>6</th>\n",
       "      <td>do you feel like you use language creatively?</td>\n",
       "      <td>do I do creative things with language y er er...</td>\n",
       "      <td>clinical</td>\n",
       "    </tr>\n",
       "    <tr>\n",
       "      <th>7</th>\n",
       "      <td>do you feel like you do creative things with l...</td>\n",
       "      <td>OK yeah \\n yeah w so what university are you ...</td>\n",
       "      <td>clinical</td>\n",
       "    </tr>\n",
       "    <tr>\n",
       "      <th>8</th>\n",
       "      <td>do you feel like you do creative things with l...</td>\n",
       "      <td>er sometimes I would think more colourfully t...</td>\n",
       "      <td>clinical</td>\n",
       "    </tr>\n",
       "    <tr>\n",
       "      <th>9</th>\n",
       "      <td>do you feel like you use language creatively?</td>\n",
       "      <td>do I feel like I use language creatively mm d...</td>\n",
       "      <td>clinical</td>\n",
       "    </tr>\n",
       "    <tr>\n",
       "      <th>10</th>\n",
       "      <td>do you feel like you use language creatively?</td>\n",
       "      <td>erm what do you mean by language \\n so yeah s...</td>\n",
       "      <td>clinical</td>\n",
       "    </tr>\n",
       "    <tr>\n",
       "      <th>11</th>\n",
       "      <td>do you feel like you do creative things with l...</td>\n",
       "      <td>yeah I know \\n do I what sorry \\n in what way...</td>\n",
       "      <td>clinical</td>\n",
       "    </tr>\n",
       "    <tr>\n",
       "      <th>12</th>\n",
       "      <td>do you feel like you use language creatively?</td>\n",
       "      <td>I'm intrigued to know what you want to know \\...</td>\n",
       "      <td>clinical</td>\n",
       "    </tr>\n",
       "    <tr>\n",
       "      <th>13</th>\n",
       "      <td>do you feel like you do creative things with l...</td>\n",
       "      <td>well I'm dyslexic so in text and stuff like t...</td>\n",
       "      <td>clinical</td>\n",
       "    </tr>\n",
       "    <tr>\n",
       "      <th>14</th>\n",
       "      <td>do you feel like you use language creatively?</td>\n",
       "      <td>erm I don't know it was erm annoying \\n yeah ...</td>\n",
       "      <td>clinical</td>\n",
       "    </tr>\n",
       "    <tr>\n",
       "      <th>15</th>\n",
       "      <td>how was the experiment?</td>\n",
       "      <td>that's a very open question er it's good er...</td>\n",
       "      <td>comparison</td>\n",
       "    </tr>\n",
       "    <tr>\n",
       "      <th>16</th>\n",
       "      <td>how was the experiment?</td>\n",
       "      <td>confusing   \\n but yeah it was fine it was go...</td>\n",
       "      <td>comparison</td>\n",
       "    </tr>\n",
       "    <tr>\n",
       "      <th>17</th>\n",
       "      <td>how was the experiment?</td>\n",
       "      <td>it was really interesting it was fun   erm I ...</td>\n",
       "      <td>comparison</td>\n",
       "    </tr>\n",
       "    <tr>\n",
       "      <th>18</th>\n",
       "      <td>how was the experiment?</td>\n",
       "      <td>OK \\n erm that's a very open question isn't i...</td>\n",
       "      <td>comparison</td>\n",
       "    </tr>\n",
       "    <tr>\n",
       "      <th>19</th>\n",
       "      <td>do you feel like you use language creatively?</td>\n",
       "      <td>do I feel like I use language creatively mm d...</td>\n",
       "      <td>comparison</td>\n",
       "    </tr>\n",
       "    <tr>\n",
       "      <th>20</th>\n",
       "      <td>do you feel like you use language creatively?</td>\n",
       "      <td>mhm yeah sometimes   I think \\n   \\n erm so I...</td>\n",
       "      <td>comparison</td>\n",
       "    </tr>\n",
       "    <tr>\n",
       "      <th>21</th>\n",
       "      <td>do you feel like you do creative things with l...</td>\n",
       "      <td>I really enjoyed it erm I felt in parts frust...</td>\n",
       "      <td>comparison</td>\n",
       "    </tr>\n",
       "    <tr>\n",
       "      <th>22</th>\n",
       "      <td>do you feel like you do creative things with l...</td>\n",
       "      <td>oh OK \\n cool er   it was it was interesting ...</td>\n",
       "      <td>comparison</td>\n",
       "    </tr>\n",
       "    <tr>\n",
       "      <th>23</th>\n",
       "      <td>how was the experiment?</td>\n",
       "      <td>erm different and it was quite interesting...</td>\n",
       "      <td>comparison</td>\n",
       "    </tr>\n",
       "    <tr>\n",
       "      <th>24</th>\n",
       "      <td>how was the experiment?</td>\n",
       "      <td>erm yes er I I you er oh I thought we were ...</td>\n",
       "      <td>comparison</td>\n",
       "    </tr>\n",
       "    <tr>\n",
       "      <th>25</th>\n",
       "      <td>how was the experiment?</td>\n",
       "      <td>well it sort of reminded me of the sort of te...</td>\n",
       "      <td>comparison</td>\n",
       "    </tr>\n",
       "    <tr>\n",
       "      <th>26</th>\n",
       "      <td>how was the experiment?</td>\n",
       "      <td>erm it was it was quite interesting erm yea...</td>\n",
       "      <td>comparison</td>\n",
       "    </tr>\n",
       "    <tr>\n",
       "      <th>27</th>\n",
       "      <td>how was the experiment?</td>\n",
       "      <td>erm yeah it was kind of weird   erm it was ab...</td>\n",
       "      <td>comparison</td>\n",
       "    </tr>\n",
       "  </tbody>\n",
       "</table>\n",
       "</div>"
      ],
      "text/plain": [
       "                                             Question  \\\n",
       "0   do you feel like you do creative things with l...   \n",
       "1       do you feel like you use language creatively?   \n",
       "2       do you feel like you use language creatively?   \n",
       "3   do you feel like  you do creative things with ...   \n",
       "4   do you feel like you do creative things with l...   \n",
       "5       do you feel like you use language creatively?   \n",
       "6       do you feel like you use language creatively?   \n",
       "7   do you feel like you do creative things with l...   \n",
       "8   do you feel like you do creative things with l...   \n",
       "9       do you feel like you use language creatively?   \n",
       "10      do you feel like you use language creatively?   \n",
       "11  do you feel like you do creative things with l...   \n",
       "12      do you feel like you use language creatively?   \n",
       "13  do you feel like you do creative things with l...   \n",
       "14      do you feel like you use language creatively?   \n",
       "15                            how was the experiment?   \n",
       "16                            how was the experiment?   \n",
       "17                            how was the experiment?   \n",
       "18                            how was the experiment?   \n",
       "19      do you feel like you use language creatively?   \n",
       "20      do you feel like you use language creatively?   \n",
       "21  do you feel like you do creative things with l...   \n",
       "22  do you feel like you do creative things with l...   \n",
       "23                            how was the experiment?   \n",
       "24                            how was the experiment?   \n",
       "25                            how was the experiment?   \n",
       "26                            how was the experiment?   \n",
       "27                            how was the experiment?   \n",
       "\n",
       "                                                 Text   Condition  \n",
       "0    how do you mean language \\n well the only pro...    clinical  \n",
       "1    I do erm   I I write song lyrics erm   poetry...    clinical  \n",
       "2    can you repeat that \\n yes I do to some exten...    clinical  \n",
       "3    right erm er I'm er do I   do creative things...    clinical  \n",
       "4    OK \\n yeah \\n erm I suppose   it depends what...    clinical  \n",
       "5    OK OK \\n you know I  when I came to England a...    clinical  \n",
       "6    do I do creative things with language y er er...    clinical  \n",
       "7    OK yeah \\n yeah w so what university are you ...    clinical  \n",
       "8    er sometimes I would think more colourfully t...    clinical  \n",
       "9    do I feel like I use language creatively mm d...    clinical  \n",
       "10   erm what do you mean by language \\n so yeah s...    clinical  \n",
       "11   yeah I know \\n do I what sorry \\n in what way...    clinical  \n",
       "12   I'm intrigued to know what you want to know \\...    clinical  \n",
       "13   well I'm dyslexic so in text and stuff like t...    clinical  \n",
       "14   erm I don't know it was erm annoying \\n yeah ...    clinical  \n",
       "15     that's a very open question er it's good er...  comparison  \n",
       "16   confusing   \\n but yeah it was fine it was go...  comparison  \n",
       "17   it was really interesting it was fun   erm I ...  comparison  \n",
       "18   OK \\n erm that's a very open question isn't i...  comparison  \n",
       "19   do I feel like I use language creatively mm d...  comparison  \n",
       "20   mhm yeah sometimes   I think \\n   \\n erm so I...  comparison  \n",
       "21   I really enjoyed it erm I felt in parts frust...  comparison  \n",
       "22   oh OK \\n cool er   it was it was interesting ...  comparison  \n",
       "23      erm different and it was quite interesting...  comparison  \n",
       "24     erm yes er I I you er oh I thought we were ...  comparison  \n",
       "25   well it sort of reminded me of the sort of te...  comparison  \n",
       "26     erm it was it was quite interesting erm yea...  comparison  \n",
       "27   erm yeah it was kind of weird   erm it was ab...  comparison  "
      ]
     },
     "execution_count": 10,
     "metadata": {},
     "output_type": "execute_result"
    }
   ],
   "source": [
    "df"
   ]
  },
  {
   "cell_type": "code",
   "execution_count": 11,
   "id": "67e9ed8c",
   "metadata": {},
   "outputs": [],
   "source": [
    "df.to_csv(os.path.join(data_path, 'speaker_only.csv'), index=False)"
   ]
  },
  {
   "cell_type": "code",
   "execution_count": 3,
   "id": "23c58cb5",
   "metadata": {},
   "outputs": [
    {
     "data": {
      "text/plain": [
       "Index(['Participant ID', 'group', 'age', 'sex', 'gender', 'diagnosis',\n",
       "       'known extrapyramidal side effects (EPSEs)', 'medication',\n",
       "       'interview only', 'experiment pathway', 'experiment mode', 'CLQT(+)',\n",
       "       'CLQT order', 'handedness', 'interview mode', 'face mask (interviewer)',\n",
       "       'face mask (participant)', 'interview location', 'locale',\n",
       "       'audio quality', 'duration', 'interviewer device', 'participant device',\n",
       "       'recording setup', 'recording date', 'recording time',\n",
       "       'education level', 'GP consent', 'archival consent',\n",
       "       'initial question type', 'interview question',\n",
       "       'historic clinical observations', 'interviewer observations'],\n",
       "      dtype='object')"
      ]
     },
     "execution_count": 3,
     "metadata": {},
     "output_type": "execute_result"
    }
   ],
   "source": [
    "metadata.columns"
   ]
  }
 ],
 "metadata": {
  "kernelspec": {
   "display_name": "Python 3 (ipykernel)",
   "language": "python",
   "name": "python3"
  },
  "language_info": {
   "codemirror_mode": {
    "name": "ipython",
    "version": 3
   },
   "file_extension": ".py",
   "mimetype": "text/x-python",
   "name": "python",
   "nbconvert_exporter": "python",
   "pygments_lexer": "ipython3",
   "version": "3.11.5"
  }
 },
 "nbformat": 4,
 "nbformat_minor": 5
}
